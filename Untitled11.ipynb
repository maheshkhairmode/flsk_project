{
 "cells": [
  {
   "cell_type": "code",
   "execution_count": 7,
   "id": "7dd756bf",
   "metadata": {},
   "outputs": [
    {
     "data": {
      "text/plain": [
       "' a  i e  ea  i        i  a  ie   o  i  ui    e o e   o u  e   a  i   a    ui  i    e  o     a    ea       a  i    e  o     a   e e a e  a a  o i   o e  e  o  a  e o   o e  e  o   a           i   ee  a  a  a   o  a  i i ia  i  e  i e  e   a  i e  ea  i   a  o i      ui   a  o e   a e  o   a   e  a a    o   a    ai i    a a  i  o  e   o  a e   e i  io   o   e i io     i  ou   ei   e   i i      o  a  e   o  o  o      a  i e  ea  i   a  o i     a e u e  i  a  i e   a ie   o  a   i a io     u   a  i   e i i e  e ai   i  e i      ee    e o  i io   a    o  u e    i io     e e i  i   i  i u   o  u  ea i  e  o  e e o   o  e  io a  a  o i      o  e  o     e  ee e   a            u  e  o   a  i e  ea  i   i    o e    e a e   o  o  u a io a    a i  i      i    o u e  o    a i     e i  io   u i    o  u e     u   o  a    a  i e  ea'"
      ]
     },
     "execution_count": 7,
     "metadata": {},
     "output_type": "execute_result"
    }
   ],
   "source": [
    "import re\n",
    "string=\"\"\"Machine learning (ML) is a field of inquiry devoted to understanding and building\n",
    "methods that 'learn', that is, methods that leverage data to improve performance on some set\n",
    "of tasks.[1] It is seen as a part of artificial intelligence. Machine learning algorithms build\n",
    "a model based on sample data, known as training data, in order to make predictions or decisions \n",
    "without being explicitly programmed to do so.[2] Machine learning algorithms are used in a wide \n",
    "variety of applications, such as in medicine, email filtering, speech recognition, and computer \n",
    "vision, where it is difficult or unfeasible to develop conventional algorithms to perform the needed tasks.[3]\n",
    "\n",
    "A subset of machine learning is closely related to computational statistics, which focuses on \n",
    "making predictions using computers, but not all machine lea\"\"\"\n",
    "k=re.sub(\"[^aeiou]\",\" \",string)\n",
    "k\n"
   ]
  },
  {
   "cell_type": "markdown",
   "id": "a08683a4",
   "metadata": {},
   "source": [
    "### python program to check whether the input string is a palindrome or not."
   ]
  },
  {
   "cell_type": "code",
   "execution_count": 9,
   "id": "fc726357",
   "metadata": {},
   "outputs": [
    {
     "name": "stdout",
     "output_type": "stream",
     "text": [
      "enter the stringmahesh\n",
      "it is not palindrome\n"
     ]
    }
   ],
   "source": [
    "def check_palindrome():\n",
    "    \n",
    "    string=input(\"enter the string\")\n",
    "    if string==string[: : -1]:\n",
    "        print(\"it is palindrome\")\n",
    "        \n",
    "    else:\n",
    "        print(\"it is not palindrome\")\n",
    "check_palindrome()    \n"
   ]
  },
  {
   "cell_type": "markdown",
   "id": "60f0e188",
   "metadata": {},
   "source": [
    "calculate the area of all these shapes in\n",
    "area of Circle,cube,cylinder\n",
    "cube*"
   ]
  },
  {
   "cell_type": "code",
   "execution_count": 42,
   "id": "9308df77",
   "metadata": {},
   "outputs": [
    {
     "name": "stdout",
     "output_type": "stream",
     "text": [
      "area of circle is  50.24\n",
      "area of cube is 150\n",
      "arae of cylinder is 37.68\n"
     ]
    }
   ],
   "source": [
    "class Area():\n",
    "    k=500\n",
    "    \n",
    "    def __init__(self,a,b,r):\n",
    "        self.a=a\n",
    "        self.b=b\n",
    "        self.r=r\n",
    "        \n",
    "    def area_of_circle(self):\n",
    "        area=3.14*self.r**2\n",
    "        print(\"area of circle is \",area)\n",
    "        \n",
    "    def area_of_cube(self,c):\n",
    "        self.c=c\n",
    "        area2=6*self.c**2\n",
    "        print(\"area of cube is\",area2)\n",
    "    \n",
    "        \n",
    "    def arae_of_cylinder(self):\n",
    "        area3=3.14*self.a**2*self.b\n",
    "        print(\"arae of cylinder is\",area3)\n",
    "        \n",
    "obj=Area(2,3,4)\n",
    "obj.k\n",
    "obj.area_of_circle()\n",
    "obj.area_of_cube(5)        \n",
    "obj.arae_of_cylinder()       \n",
    "    \n",
    "    \n",
    "    \n",
    "    \n",
    "    "
   ]
  },
  {
   "cell_type": "code",
   "execution_count": 37,
   "id": "934aa7e5",
   "metadata": {},
   "outputs": [],
   "source": [
    "class Area():\n",
    "    def __init__(self,a,b,r):\n",
    "        self.a=a\n",
    "        self.b=b\n",
    "        self.r=r\n",
    "        \n",
    "    def area(self):\n",
    "        area=3.14*self.c**2\n",
    "        print(\"area of circle is \",area)\n",
    "        \n",
    "    def area(self,c):\n",
    "        self.c=c\n",
    "        area2=6*self.c**2\n",
    "        print(\"area of cube is\",area2)\n",
    "    \n",
    "        \n",
    "    def arae(self):\n",
    "        area3=3.14*self.a**2*self.b\n",
    "        print(\"arae of cylinder is\",area3)\n",
    "        "
   ]
  },
  {
   "cell_type": "code",
   "execution_count": 19,
   "id": "edf3cfd4",
   "metadata": {},
   "outputs": [],
   "source": [
    "import json\n",
    "d=\"india\"\n",
    "with open(\"mk.json\",\"w\") as f:\n",
    "    json.dump(d,f)\n",
    "    "
   ]
  },
  {
   "cell_type": "code",
   "execution_count": 26,
   "id": "df98746d",
   "metadata": {},
   "outputs": [
    {
     "data": {
      "text/plain": [
       "['24_08_02_Inheritance Practice (1).ipynb',\n",
       " '24_08_02_Inheritance Practice.ipynb',\n",
       " 'class.ipynb',\n",
       " 'Untitled.ipynb',\n",
       " 'Untitled1.ipynb',\n",
       " 'Untitled10.ipynb',\n",
       " 'Untitled11.ipynb',\n",
       " 'Untitled2.ipynb',\n",
       " 'Untitled3.ipynb',\n",
       " 'Untitled4.ipynb',\n",
       " 'Untitled5.ipynb',\n",
       " 'Untitled6.ipynb',\n",
       " 'Untitled7.ipynb',\n",
       " 'Untitled8.ipynb',\n",
       " 'Untitled9.ipynb']"
      ]
     },
     "execution_count": 26,
     "metadata": {},
     "output_type": "execute_result"
    }
   ],
   "source": [
    "import glob\n",
    "glob.glob(\"\")"
   ]
  },
  {
   "cell_type": "code",
   "execution_count": 27,
   "id": "7c96385d",
   "metadata": {},
   "outputs": [
    {
     "data": {
      "text/plain": [
       "'D:\\\\'"
      ]
     },
     "execution_count": 27,
     "metadata": {},
     "output_type": "execute_result"
    }
   ],
   "source": [
    "import os\n",
    "os.getcwd()"
   ]
  },
  {
   "cell_type": "code",
   "execution_count": 36,
   "id": "e2440cde",
   "metadata": {},
   "outputs": [
    {
     "data": {
      "text/plain": [
       "[]"
      ]
     },
     "execution_count": 36,
     "metadata": {},
     "output_type": "execute_result"
    }
   ],
   "source": [
    "path=\"C:\\\\DAILY PRACTICE\"\n",
    "\n",
    "\n",
    "glob.glob(path+\"*.ipynb\")"
   ]
  },
  {
   "cell_type": "code",
   "execution_count": null,
   "id": "ff064b4f",
   "metadata": {},
   "outputs": [],
   "source": []
  },
  {
   "cell_type": "code",
   "execution_count": null,
   "id": "f189b4b7",
   "metadata": {},
   "outputs": [],
   "source": [
    "import re\n",
    "string=\"ahezsh kalpzesh ketan school\"\n",
    "k=re.findall(\"*.z.+$\",string)\n",
    "k\n",
    "# k.group()\n",
    "# k.start()\n",
    "# k.end()"
   ]
  },
  {
   "cell_type": "code",
   "execution_count": 65,
   "id": "f6b0e3f3",
   "metadata": {},
   "outputs": [
    {
     "data": {
      "text/plain": [
       "'Tue 15  February 2022'"
      ]
     },
     "execution_count": 65,
     "metadata": {},
     "output_type": "execute_result"
    }
   ],
   "source": [
    "import datetime\n",
    "k=datetime.datetime(2022 ,2,15)\n",
    "k.strftime(\"%a %d  %B %Y\")\n",
    "# print(k)"
   ]
  },
  {
   "cell_type": "code",
   "execution_count": 76,
   "id": "7a0fc08b",
   "metadata": {},
   "outputs": [
    {
     "name": "stdout",
     "output_type": "stream",
     "text": [
      "2022-12-10 17:37:00\n"
     ]
    }
   ],
   "source": [
    "string=\"10 December 22 5:37PM\"\n",
    "format1=\"%d %B %y %I:%M%p\"\n",
    "k=datetime.datetime.strptime(string,format1)\n",
    "print(k)"
   ]
  },
  {
   "cell_type": "markdown",
   "id": "ac8e78f7",
   "metadata": {},
   "source": [
    "### abstraction"
   ]
  },
  {
   "cell_type": "markdown",
   "id": "71140d3a",
   "metadata": {},
   "source": [
    "polymorphism"
   ]
  },
  {
   "cell_type": "code",
   "execution_count": 115,
   "id": "c64ff2ef",
   "metadata": {},
   "outputs": [
    {
     "name": "stdout",
     "output_type": "stream",
     "text": [
      "area of circle 12.56\n"
     ]
    }
   ],
   "source": [
    "class Circle():\n",
    "    def __init__(self,r):\n",
    "        self.r=r\n",
    "        \n",
    "    def area(self):\n",
    "        area1=3.14*self.r**2\n",
    "        \n",
    "        print(\"area of circle\",area1)\n",
    "        \n",
    "        \n",
    "        \n",
    "        \n",
    "class Cube():\n",
    "    def __init__(self,a):\n",
    "        self.a=a\n",
    "    \n",
    "    def area(self):\n",
    "        area2=6*self.a**2\n",
    "        print(\"area of cube\",area2)\n",
    "        \n",
    "        \n",
    "        \n",
    "        \n",
    "class Cylinder():\n",
    "    def __init__(self,h,l):\n",
    "        self.l=l\n",
    "        self.h=h\n",
    "    \n",
    "    \n",
    "    def area(self):\n",
    "        area3=2*self.l*self.h\n",
    "        print(\"area of cylinder\",area3)\n",
    " \n",
    "        \n",
    "# def get_area_of_all():\n",
    "#     p=Circle(2)\n",
    "#     q=Cube(3)\n",
    "#     e=Cylinder(4,5)\n",
    "    \n",
    "# #     lst=[p,q,e]\n",
    "    \n",
    "#     for i in lst:\n",
    "        \n",
    "#         i.area()\n",
    "# get_area_of_all()        \n",
    "        \n",
    "            \n",
    "        "
   ]
  },
  {
   "cell_type": "markdown",
   "id": "4eb0aee4",
   "metadata": {},
   "source": [
    "### overridding"
   ]
  },
  {
   "cell_type": "code",
   "execution_count": 98,
   "id": "59e30d10",
   "metadata": {},
   "outputs": [
    {
     "name": "stdout",
     "output_type": "stream",
     "text": [
      "area of circle 96\n",
      "area of rectangle is  18\n",
      "area of circle 12.56\n"
     ]
    }
   ],
   "source": [
    "class Circle():\n",
    "    def __init__(self,r):\n",
    "        self.r=r\n",
    "        \n",
    "    def area(self):\n",
    "        area1=3.14*self.r**2\n",
    "        print(\"area of circle\",area1)\n",
    "    \n",
    "    def area_of_rectangle(self,f):\n",
    "        self.f=f\n",
    "        area=self.f*self.r\n",
    "        print(\"area of rectangle is \",area)\n",
    "        \n",
    "        \n",
    "        \n",
    "class Cube(Circle):\n",
    "    def __init__(self,a):\n",
    "        self.a=a\n",
    "        Circle.__init__(self,2)\n",
    "    \n",
    "    def area(self):\n",
    "        area2=6*self.a**2\n",
    "        print(\"area of circle\",area2)\n",
    "        \n",
    "obj=Cube(4)\n",
    "obj.area()      #overridding\n",
    "obj.area_of_rectangle(9)        \n",
    "\n",
    "obj1=Circle(2)\n",
    "obj1.area()"
   ]
  },
  {
   "cell_type": "code",
   "execution_count": 132,
   "id": "15894eda",
   "metadata": {},
   "outputs": [
    {
     "name": "stdout",
     "output_type": "stream",
     "text": [
      "area of circle 54\n"
     ]
    }
   ],
   "source": [
    "import traceback\n",
    "try:\n",
    "    from abc import ABC,abstractmethod\n",
    "    class Circle(ABC):\n",
    "        def __init__(self,r):\n",
    "            self.r=r\n",
    "        \n",
    "        @abstractmethod   \n",
    "        def area(self):\n",
    "        \n",
    "            pass\n",
    "        \n",
    "        \n",
    "        def area_of_rectangle(self,f):\n",
    "            pass\n",
    "         \n",
    "        \n",
    "        \n",
    "    class Cube(Circle):\n",
    "        def __init__(self,a):\n",
    "            self.a=a\n",
    "            Circle.__init__(self,2)\n",
    "    \n",
    "        def area(self):\n",
    "            area2=6*self.a**2\n",
    "            print(\"area of circle\",area2)\n",
    "    obj=Cube(3)\n",
    "    obj.area()\n",
    "except:\n",
    "    print(traceback.print_exc())\n",
    "    print(\"error found\")"
   ]
  },
  {
   "cell_type": "code",
   "execution_count": 137,
   "id": "2b0b68d6",
   "metadata": {},
   "outputs": [
    {
     "ename": "NameError",
     "evalue": "name 'l' is not defined",
     "output_type": "error",
     "traceback": [
      "\u001b[1;31m---------------------------------------------------------------------------\u001b[0m",
      "\u001b[1;31mNameError\u001b[0m                                 Traceback (most recent call last)",
      "Input \u001b[1;32mIn [137]\u001b[0m, in \u001b[0;36m<cell line: 3>\u001b[1;34m()\u001b[0m\n\u001b[0;32m      5\u001b[0m     lst\u001b[38;5;241m=\u001b[39m[\u001b[38;5;241m1\u001b[39m,\u001b[38;5;241m2\u001b[39m,\u001b[38;5;241m3\u001b[39m,\u001b[38;5;241m4\u001b[39m,\u001b[38;5;241m5\u001b[39m]\n\u001b[0;32m      6\u001b[0m     \u001b[38;5;28;01mfor\u001b[39;00m i \u001b[38;5;129;01min\u001b[39;00m lst:\n\u001b[1;32m----> 7\u001b[0m         \u001b[38;5;28mprint\u001b[39m(\u001b[43ml\u001b[49m)\n\u001b[0;32m      9\u001b[0m \u001b[38;5;28;01melse\u001b[39;00m:\n\u001b[0;32m     10\u001b[0m     \u001b[38;5;28;01mraise\u001b[39;00m  value(\u001b[38;5;124m\"\u001b[39m\u001b[38;5;124m pallavi\u001b[39m\u001b[38;5;124m\"\u001b[39m)\n",
      "\u001b[1;31mNameError\u001b[0m: name 'l' is not defined"
     ]
    }
   ],
   "source": [
    "x=1\n",
    "y=1\n",
    "if x==y:\n",
    "    \n",
    "    lst=[1,2,3,4,5]\n",
    "    for i in lst:\n",
    "        print(l)\n",
    "          \n",
    "else:\n",
    "    raise  value(\" pallavi\")\n",
    "    "
   ]
  },
  {
   "cell_type": "code",
   "execution_count": null,
   "id": "835643ad",
   "metadata": {},
   "outputs": [],
   "source": []
  }
 ],
 "metadata": {
  "kernelspec": {
   "display_name": "Python 3 (ipykernel)",
   "language": "python",
   "name": "python3"
  },
  "language_info": {
   "codemirror_mode": {
    "name": "ipython",
    "version": 3
   },
   "file_extension": ".py",
   "mimetype": "text/x-python",
   "name": "python",
   "nbconvert_exporter": "python",
   "pygments_lexer": "ipython3",
   "version": "3.10.5"
  }
 },
 "nbformat": 4,
 "nbformat_minor": 5
}
